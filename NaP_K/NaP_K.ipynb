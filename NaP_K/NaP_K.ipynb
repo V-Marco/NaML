{
 "cells": [
  {
   "cell_type": "markdown",
   "metadata": {},
   "source": [
    "# Constant CI"
   ]
  },
  {
   "cell_type": "code",
   "execution_count": null,
   "metadata": {},
   "outputs": [],
   "source": []
  },
  {
   "cell_type": "code",
   "execution_count": null,
   "metadata": {},
   "outputs": [
    {
     "name": "stderr",
     "output_type": "stream",
     "text": [
      "  0%|          | 0/1 [00:00<?, ?it/s]"
     ]
    },
    {
     "name": "stdout",
     "output_type": "stream",
     "text": [
      "Changed dt\n"
     ]
    },
    {
     "name": "stderr",
     "output_type": "stream",
     "text": [
      "100%|██████████| 1/1 [00:00<00:00,  2.76it/s]\n"
     ]
    }
   ],
   "source": [
    "I_input, V_ouput, spikes_out = generate_dataset(1, 4, 4, 'const', random_state)"
   ]
  },
  {
   "cell_type": "code",
   "execution_count": null,
   "metadata": {},
   "outputs": [
    {
     "data": {
      "text/plain": [
       "(1, 8, 5000)"
      ]
     },
     "execution_count": 30,
     "metadata": {},
     "output_type": "execute_result"
    }
   ],
   "source": [
    "I_input.shape"
   ]
  },
  {
   "cell_type": "code",
   "execution_count": null,
   "metadata": {},
   "outputs": [
    {
     "data": {
      "text/plain": [
       "(1, 5000)"
      ]
     },
     "execution_count": 31,
     "metadata": {},
     "output_type": "execute_result"
    }
   ],
   "source": [
    "V_ouput.shape"
   ]
  },
  {
   "cell_type": "code",
   "execution_count": null,
   "metadata": {},
   "outputs": [
    {
     "data": {
      "text/plain": [
       "[<matplotlib.lines.Line2D at 0x7fdba2a428c0>]"
      ]
     },
     "execution_count": 34,
     "metadata": {},
     "output_type": "execute_result"
    },
    {
     "data": {
      "image/png": "[encoded data removed]",
      "text/plain": [
       "<Figure size 640x480 with 1 Axes>"
      ]
     },
     "metadata": {},
     "output_type": "display_data"
    }
   ],
   "source": [
    "plt.plot(V_ouput[0, :].flatten())"
   ]
  },
  {
   "cell_type": "code",
   "execution_count": null,
   "metadata": {},
   "outputs": [
    {
     "data": {
      "text/plain": [
       "(1, 5000)"
      ]
     },
     "execution_count": 32,
     "metadata": {},
     "output_type": "execute_result"
    }
   ],
   "source": [
    "spikes_out.shape"
   ]
  },
  {
   "cell_type": "code",
   "execution_count": null,
   "metadata": {},
   "outputs": [],
   "source": [
    "class IFDNN(torch.nn.Module):\n",
    "\n",
    "    def __init__(self, N_syn, win_size):\n",
    "        super().__init__()\n",
    "        self.win_size = win_size\n",
    "        self.conv = torch.nn.Conv1d(in_channels = N_syn, out_channels = 1, kernel_size = self.win_size, padding = \"valid\")\n",
    "        self.spike_conv = torch.nn.Conv1d(in_channels = 1, out_channels = 1, kernel_size = 1, padding = \"valid\")\n",
    "        self.v_conv = torch.nn.Conv1d(in_channels = 1, out_channels = 1, kernel_size = 1, padding = \"valid\")\n",
    "\n",
    "    def forward(self, I_input):\n",
    "        # Causal padding, so that the kernel uses [... t-1] to predict [t]\n",
    "        I_input = torch.nn.functional.pad(I_input, (self.win_size - 1, 0))\n",
    "        out = self.conv(I_input)\n",
    "\n",
    "        spike_out = self.spike_conv(out)\n",
    "        spike_out = torch.nn.functional.logsigmoid(spike_out)\n",
    "\n",
    "        v_out = self.v_conv(out)\n",
    "\n",
    "        return v_out, spike_out\n",
    "    \n",
    "model = IFDNN(N_syn = N_syn, win_size = win_size)"
   ]
  },
  {
   "cell_type": "code",
   "execution_count": null,
   "metadata": {},
   "outputs": [],
   "source": [
    "# https://discuss.pytorch.org/t/how-do-i-check-the-number-of-parameters-of-a-model/4325/8\n",
    "def count_parameters(model):\n",
    "    return sum(p.numel() for p in model.parameters() if p.requires_grad)"
   ]
  },
  {
   "cell_type": "code",
   "execution_count": null,
   "metadata": {},
   "outputs": [
    {
     "data": {
      "text/plain": [
       "8005"
      ]
     },
     "execution_count": 12,
     "metadata": {},
     "output_type": "execute_result"
    }
   ],
   "source": [
    "count_parameters(model)"
   ]
  },
  {
   "cell_type": "code",
   "execution_count": null,
   "metadata": {},
   "outputs": [
    {
     "name": "stderr",
     "output_type": "stream",
     "text": [
      "100%|██████████| 32/32 [00:13<00:00,  2.45it/s]\n"
     ]
    }
   ],
   "source": [
    "all_train_loss = []\n",
    "all_test_loss = []\n",
    "\n",
    "model = IFDNN(N_syn = N_syn, win_size = win_size)\n",
    "I_input_test, V_ouput_test, spike_times_test = generate_dataset(32)"
   ]
  },
  {
   "cell_type": "code",
   "execution_count": null,
   "metadata": {},
   "outputs": [
    {
     "name": "stderr",
     "output_type": "stream",
     "text": [
      "100%|██████████| 32/32 [00:13<00:00,  2.45it/s]\n"
     ]
    },
    {
     "name": "stdout",
     "output_type": "stream",
     "text": [
      "[Epoch 0]:\n",
      "              train_loss = 8312.8779296875,\n",
      "              test_MSE = 4653.646484375,\n",
      "              test_BCE = 3560.997802734375,\n",
      "              test_loss = 8214.64453125,\n",
      "              test_acc = 0.99223125\n",
      "              test_AUC = 0.5215743231415706\n",
      "[Epoch 1]:\n",
      "              train_loss = 8217.353515625,\n",
      "              test_MSE = 4647.244140625,\n",
      "              test_BCE = 3476.518798828125,\n",
      "              test_loss = 8123.7626953125,\n",
      "              test_acc = 0.99223125\n",
      "              test_AUC = 0.5358913307759657\n",
      "[Epoch 2]:\n",
      "              train_loss = 8123.45751953125,\n",
      "              test_MSE = 4640.8505859375,\n",
      "              test_BCE = 3393.54638671875,\n",
      "              test_loss = 8034.39697265625,\n",
      "              test_acc = 0.99223125\n",
      "              test_AUC = 0.5493274934352608\n",
      "[Epoch 3]:\n",
      "              train_loss = 8031.19921875,\n",
      "              test_MSE = 4634.4677734375,\n",
      "              test_BCE = 3312.0869140625,\n",
      "              test_loss = 7946.5546875,\n",
      "              test_acc = 0.99223125\n",
      "              test_AUC = 0.5616210556638798\n",
      "[Epoch 4]:\n",
      "              train_loss = 7940.580078125,\n",
      "              test_MSE = 4628.0966796875,\n",
      "              test_BCE = 3232.144775390625,\n",
      "              test_loss = 7860.2412109375,\n",
      "              test_acc = 0.99223125\n",
      "              test_AUC = 0.5727916439901212\n",
      "[Epoch 5]:\n",
      "              train_loss = 7851.63720703125,\n",
      "              test_MSE = 4621.74072265625,\n",
      "              test_BCE = 3153.763427734375,\n",
      "              test_loss = 7775.50390625,\n",
      "              test_acc = 0.99223125\n",
      "              test_AUC = 0.5829145998571738\n",
      "[Epoch 6]:\n",
      "              train_loss = 7764.375,\n",
      "              test_MSE = 4615.4013671875,\n",
      "              test_BCE = 3076.94921875,\n",
      "              test_loss = 7692.3505859375,\n",
      "              test_acc = 0.99223125\n",
      "              test_AUC = 0.5919942129258187\n",
      "[Epoch 7]:\n",
      "              train_loss = 7678.80322265625,\n",
      "              test_MSE = 4609.080078125,\n",
      "              test_BCE = 3001.710693359375,\n",
      "              test_loss = 7610.791015625,\n",
      "              test_acc = 0.99223125\n",
      "              test_AUC = 0.600128762795801\n",
      "[Epoch 8]:\n",
      "              train_loss = 7594.9609375,\n",
      "              test_MSE = 4602.77978515625,\n",
      "              test_BCE = 2928.061279296875,\n",
      "              test_loss = 7530.8408203125,\n",
      "              test_acc = 0.99223125\n",
      "              test_AUC = 0.6073952201199269\n",
      "[Epoch 9]:\n",
      "              train_loss = 7512.8388671875,\n",
      "              test_MSE = 4596.5009765625,\n",
      "              test_BCE = 2856.00537109375,\n",
      "              test_loss = 7452.50634765625,\n",
      "              test_acc = 0.99223125\n",
      "              test_AUC = 0.6138524315441718\n",
      "[Epoch 10]:\n",
      "              train_loss = 7432.4453125,\n",
      "              test_MSE = 4590.2490234375,\n",
      "              test_BCE = 2785.55224609375,\n",
      "              test_loss = 7375.80126953125,\n",
      "              test_acc = 0.99223125\n",
      "              test_AUC = 0.619564610224572\n",
      "[Epoch 11]:\n",
      "              train_loss = 7353.7880859375,\n",
      "              test_MSE = 4584.021484375,\n",
      "              test_BCE = 2716.703857421875,\n",
      "              test_loss = 7300.7255859375,\n",
      "              test_acc = 0.99223125\n",
      "              test_AUC = 0.6245667829010177\n",
      "[Epoch 12]:\n",
      "              train_loss = 7276.8818359375,\n",
      "              test_MSE = 4577.82373046875,\n",
      "              test_BCE = 2649.455078125,\n",
      "              test_loss = 7227.27880859375,\n",
      "              test_acc = 0.99223125\n",
      "              test_AUC = 0.6289620483905054\n",
      "[Epoch 13]:\n",
      "              train_loss = 7201.7099609375,\n",
      "              test_MSE = 4571.65576171875,\n",
      "              test_BCE = 2583.80712890625,\n",
      "              test_loss = 7155.462890625,\n",
      "              test_acc = 0.99223125\n",
      "              test_AUC = 0.6328630273914325\n",
      "[Epoch 14]:\n",
      "              train_loss = 7128.2763671875,\n",
      "              test_MSE = 4565.5205078125,\n",
      "              test_BCE = 2519.754638671875,\n",
      "              test_loss = 7085.275390625,\n",
      "              test_acc = 0.99223125\n",
      "              test_AUC = 0.636280607483466\n"
     ]
    },
    {
     "name": "stderr",
     "output_type": "stream",
     "text": [
      " 25%|██▌       | 8/32 [00:03<00:11,  2.14it/s]\n"
     ]
    },
    {
     "ename": "KeyboardInterrupt",
     "evalue": "",
     "output_type": "error",
     "traceback": [
      "\u001b[0;31m---------------------------------------------------------------------------\u001b[0m",
      "\u001b[0;31mKeyboardInterrupt\u001b[0m                         Traceback (most recent call last)",
      "Cell \u001b[0;32mIn[14], line 3\u001b[0m\n\u001b[1;32m      1\u001b[0m \u001b[38;5;28;01mfor\u001b[39;00m batch_num \u001b[38;5;129;01min\u001b[39;00m \u001b[38;5;28mrange\u001b[39m(\u001b[38;5;241m10\u001b[39m):\n\u001b[0;32m----> 3\u001b[0m     I_input_train, V_ouput_train, spike_times_train \u001b[38;5;241m=\u001b[39m \u001b[43mgenerate_dataset\u001b[49m\u001b[43m(\u001b[49m\u001b[38;5;241;43m32\u001b[39;49m\u001b[43m)\u001b[49m\n\u001b[1;32m      5\u001b[0m     train_loss_history, test_loss_history \u001b[38;5;241m=\u001b[39m train(\n\u001b[1;32m      6\u001b[0m         num_epoch \u001b[38;5;241m=\u001b[39m \u001b[38;5;241m15\u001b[39m,\n\u001b[1;32m      7\u001b[0m         model \u001b[38;5;241m=\u001b[39m model,\n\u001b[0;32m   (...)\u001b[0m\n\u001b[1;32m     16\u001b[0m         sim_time_ms \u001b[38;5;241m=\u001b[39m sim_time_ms\n\u001b[1;32m     17\u001b[0m     )\n\u001b[1;32m     19\u001b[0m     all_train_loss\u001b[38;5;241m.\u001b[39mextend(train_loss_history)\n",
      "Cell \u001b[0;32mIn[9], line 9\u001b[0m, in \u001b[0;36mgenerate_dataset\u001b[0;34m(size)\u001b[0m\n\u001b[1;32m      7\u001b[0m \u001b[38;5;28;01mfor\u001b[39;00m i \u001b[38;5;129;01min\u001b[39;00m tqdm(\u001b[38;5;28mrange\u001b[39m(size)):\n\u001b[1;32m      8\u001b[0m     np\u001b[38;5;241m.\u001b[39mrandom\u001b[38;5;241m.\u001b[39mseed(np\u001b[38;5;241m.\u001b[39mrandom\u001b[38;5;241m.\u001b[39mrandint(\u001b[38;5;241m50\u001b[39m, \u001b[38;5;241m450\u001b[39m))\n\u001b[0;32m----> 9\u001b[0m     exc_CI \u001b[38;5;241m=\u001b[39m exc_w \u001b[38;5;241m*\u001b[39m \u001b[43mgenerate_current_inj_matrix\u001b[49m\u001b[43m(\u001b[49m\u001b[38;5;241;43m3\u001b[39;49m\u001b[43m,\u001b[49m\u001b[43m \u001b[49m\u001b[43mN_exc_syn\u001b[49m\u001b[43m,\u001b[49m\u001b[43m \u001b[49m\u001b[43msim_time_ms\u001b[49m\u001b[43m)\u001b[49m\n\u001b[1;32m     10\u001b[0m     inh_CI \u001b[38;5;241m=\u001b[39m inh_w \u001b[38;5;241m*\u001b[39m generate_current_inj_matrix(\u001b[38;5;241m3\u001b[39m, N_inh_syn, sim_time_ms)\n\u001b[1;32m     12\u001b[0m     CI \u001b[38;5;241m=\u001b[39m np\u001b[38;5;241m.\u001b[39mvstack((exc_CI, inh_CI))\n",
      "File \u001b[0;32m~/segev/trace.py:31\u001b[0m, in \u001b[0;36mgenerate_current_inj_matrix\u001b[0;34m(mfr, N_syn, T)\u001b[0m\n\u001b[1;32m     29\u001b[0m matrix \u001b[38;5;241m=\u001b[39m np\u001b[38;5;241m.\u001b[39mzeros((N_syn, T))\n\u001b[1;32m     30\u001b[0m \u001b[38;5;28;01mfor\u001b[39;00m i \u001b[38;5;129;01min\u001b[39;00m \u001b[38;5;28mrange\u001b[39m(N_syn):\n\u001b[0;32m---> 31\u001b[0m     train \u001b[38;5;241m=\u001b[39m \u001b[43minhomogeneous_poisson_through_num_points_for_window_one\u001b[49m\u001b[43m(\u001b[49m\u001b[43mgenerate_pink_noise\u001b[49m\u001b[43m(\u001b[49m\u001b[43mnum_obs\u001b[49m\u001b[43m \u001b[49m\u001b[38;5;241;43m=\u001b[39;49m\u001b[43m \u001b[49m\u001b[43mT\u001b[49m\u001b[43m,\u001b[49m\u001b[43m \u001b[49m\u001b[43mmean\u001b[49m\u001b[43m \u001b[49m\u001b[38;5;241;43m=\u001b[39;49m\u001b[43m \u001b[49m\u001b[43mmfr\u001b[49m\u001b[43m)\u001b[49m\u001b[43m \u001b[49m\u001b[38;5;241;43m/\u001b[39;49m\u001b[43m \u001b[49m\u001b[38;5;241;43m1000\u001b[39;49m\u001b[43m)\u001b[49m\n\u001b[1;32m     32\u001b[0m     matrix[i, :] \u001b[38;5;241m=\u001b[39m generate_exponential_current(train)[:T]\n\u001b[1;32m     33\u001b[0m \u001b[38;5;28;01mreturn\u001b[39;00m matrix\n",
      "File \u001b[0;32m~/segev/trace.py:8\u001b[0m, in \u001b[0;36minhomogeneous_poisson_through_num_points_for_window_one\u001b[0;34m(lambdas)\u001b[0m\n\u001b[1;32m      6\u001b[0m t \u001b[38;5;241m=\u001b[39m np\u001b[38;5;241m.\u001b[39mzeros(\u001b[38;5;28mlen\u001b[39m(lambdas))\n\u001b[1;32m      7\u001b[0m \u001b[38;5;28;01mfor\u001b[39;00m i, lambd \u001b[38;5;129;01min\u001b[39;00m \u001b[38;5;28menumerate\u001b[39m(lambdas):\n\u001b[0;32m----> 8\u001b[0m     num_points \u001b[38;5;241m=\u001b[39m \u001b[43mnp\u001b[49m\u001b[38;5;241;43m.\u001b[39;49m\u001b[43mrandom\u001b[49m\u001b[38;5;241;43m.\u001b[39;49m\u001b[43mpoisson\u001b[49m\u001b[43m(\u001b[49m\u001b[43mlambd\u001b[49m\u001b[43m)\u001b[49m\n\u001b[1;32m      9\u001b[0m     \u001b[38;5;28;01mif\u001b[39;00m num_points \u001b[38;5;241m>\u001b[39m \u001b[38;5;241m0\u001b[39m: t[i] \u001b[38;5;241m=\u001b[39m \u001b[38;5;241m1\u001b[39m\n\u001b[1;32m     10\u001b[0m \u001b[38;5;28;01mreturn\u001b[39;00m t\n",
      "File \u001b[0;32mnumpy/random/mtrand.pyx:3673\u001b[0m, in \u001b[0;36mnumpy.random.mtrand.RandomState.poisson\u001b[0;34m()\u001b[0m\n",
      "File \u001b[0;32mnumpy/random/mtrand.pyx:114\u001b[0m, in \u001b[0;36mnumpy.random.mtrand.int64_to_long\u001b[0;34m()\u001b[0m\n",
      "File \u001b[0;32m/opt/anaconda3/envs/simulations/lib/python3.10/site-packages/numpy/core/numeric.py:1855\u001b[0m, in \u001b[0;36misscalar\u001b[0;34m(element)\u001b[0m\n\u001b[1;32m   1851\u001b[0m \u001b[38;5;28;01mdef\u001b[39;00m \u001b[38;5;21m_frombuffer\u001b[39m(buf, dtype, shape, order):\n\u001b[1;32m   1852\u001b[0m     \u001b[38;5;28;01mreturn\u001b[39;00m frombuffer(buf, dtype\u001b[38;5;241m=\u001b[39mdtype)\u001b[38;5;241m.\u001b[39mreshape(shape, order\u001b[38;5;241m=\u001b[39morder)\n\u001b[0;32m-> 1855\u001b[0m \u001b[38;5;129m@set_module\u001b[39m(\u001b[38;5;124m'\u001b[39m\u001b[38;5;124mnumpy\u001b[39m\u001b[38;5;124m'\u001b[39m)\n\u001b[1;32m   1856\u001b[0m \u001b[38;5;28;01mdef\u001b[39;00m \u001b[38;5;21misscalar\u001b[39m(element):\n\u001b[1;32m   1857\u001b[0m \u001b[38;5;250m    \u001b[39m\u001b[38;5;124;03m\"\"\"\u001b[39;00m\n\u001b[1;32m   1858\u001b[0m \u001b[38;5;124;03m    Returns True if the type of `element` is a scalar type.\u001b[39;00m\n\u001b[1;32m   1859\u001b[0m \n\u001b[0;32m   (...)\u001b[0m\n\u001b[1;32m   1929\u001b[0m \n\u001b[1;32m   1930\u001b[0m \u001b[38;5;124;03m    \"\"\"\u001b[39;00m\n\u001b[1;32m   1931\u001b[0m     \u001b[38;5;28;01mreturn\u001b[39;00m (\u001b[38;5;28misinstance\u001b[39m(element, generic)\n\u001b[1;32m   1932\u001b[0m             \u001b[38;5;129;01mor\u001b[39;00m \u001b[38;5;28mtype\u001b[39m(element) \u001b[38;5;129;01min\u001b[39;00m ScalarType\n\u001b[1;32m   1933\u001b[0m             \u001b[38;5;129;01mor\u001b[39;00m \u001b[38;5;28misinstance\u001b[39m(element, numbers\u001b[38;5;241m.\u001b[39mNumber))\n",
      "\u001b[0;31mKeyboardInterrupt\u001b[0m: "
     ]
    }
   ],
   "source": [
    "for batch_num in range(10):\n",
    "\n",
    "    I_input_train, V_ouput_train, spike_times_train = generate_dataset(32)\n",
    "\n",
    "    train_loss_history, test_loss_history = train(\n",
    "        num_epoch = 15,\n",
    "        model = model,\n",
    "        device_name = \"cpu\",\n",
    "        lr = 0.0001, # 0.0003\n",
    "        I_train = I_input_train,\n",
    "        V_train = V_ouput_train,\n",
    "        spike_times_train = spike_times_train,\n",
    "        I_test = I_input_test,\n",
    "        V_test = V_ouput_test,\n",
    "        spike_times_test = spike_times_test,\n",
    "        sim_time_ms = sim_time_ms\n",
    "    )\n",
    "\n",
    "    all_train_loss.extend(train_loss_history)\n",
    "    all_test_loss.extend(test_loss_history)"
   ]
  },
  {
   "cell_type": "code",
   "execution_count": null,
   "metadata": {},
   "outputs": [
    {
     "data": {
      "text/plain": [
       "<matplotlib.legend.Legend at 0x7f96de0fda50>"
      ]
     },
     "execution_count": 29,
     "metadata": {},
     "output_type": "execute_result"
    },
    {
     "data": {
      "image/png": "[encoded data removed]",
      "text/plain": [
       "<Figure size 640x480 with 1 Axes>"
      ]
     },
     "metadata": {},
     "output_type": "display_data"
    }
   ],
   "source": [
    "plt.plot(all_train_loss, label = \"train loss\")\n",
    "plt.plot(all_test_loss, label = \"test loss\")\n",
    "plt.grid()\n",
    "plt.legend()"
   ]
  },
  {
   "cell_type": "code",
   "execution_count": null,
   "metadata": {},
   "outputs": [
    {
     "data": {
      "text/plain": [
       "(100, 80)"
      ]
     },
     "execution_count": 30,
     "metadata": {},
     "output_type": "execute_result"
    }
   ],
   "source": [
    "conv_params = list(model.parameters())[0].detach().numpy()[0]\n",
    "conv_params.shape"
   ]
  },
  {
   "cell_type": "code",
   "execution_count": null,
   "metadata": {},
   "outputs": [
    {
     "data": {
      "text/plain": [
       "0.18005961"
      ]
     },
     "execution_count": 31,
     "metadata": {},
     "output_type": "execute_result"
    }
   ],
   "source": [
    "np.median(conv_params)"
   ]
  },
  {
   "cell_type": "code",
   "execution_count": null,
   "metadata": {},
   "outputs": [
    {
     "data": {
      "text/plain": [
       "array([[ 0.54131   ,  0.47349748,  0.41318563, ...,  0.44084486,\n",
       "         0.49930152,  0.56764746],\n",
       "       [ 1.0470155 ,  0.948186  ,  0.8823584 , ...,  0.50625366,\n",
       "         0.58276355,  0.6844535 ],\n",
       "       [ 0.7273737 ,  0.6418907 ,  0.5769223 , ...,  0.8703752 ,\n",
       "         0.9998561 ,  1.1431091 ],\n",
       "       ...,\n",
       "       [-1.0391077 , -0.90187323, -0.81583726, ..., -1.1479957 ,\n",
       "        -1.273328  , -1.364298  ],\n",
       "       [-0.41437674, -0.35250315, -0.28700277, ..., -1.4693499 ,\n",
       "        -1.6054579 , -1.7222424 ],\n",
       "       [-0.5548225 , -0.50515604, -0.4474204 , ..., -2.075593  ,\n",
       "        -2.2380078 , -2.3876126 ]], dtype=float32)"
      ]
     },
     "execution_count": 32,
     "metadata": {},
     "output_type": "execute_result"
    }
   ],
   "source": [
    "conv_params"
   ]
  },
  {
   "cell_type": "code",
   "execution_count": null,
   "metadata": {},
   "outputs": [
    {
     "data": {
      "image/png": "[encoded data removed]",
      "text/plain": [
       "<Figure size 640x480 with 1 Axes>"
      ]
     },
     "metadata": {},
     "output_type": "display_data"
    }
   ],
   "source": [
    "import seaborn as sns\n",
    "plt.imshow(conv_params, cmap = 'jet')\n",
    "plt.ylabel(\"synaptic index\");"
   ]
  },
  {
   "cell_type": "code",
   "execution_count": null,
   "metadata": {},
   "outputs": [
    {
     "data": {
      "text/plain": [
       "[<matplotlib.lines.Line2D at 0x7f96ca870250>]"
      ]
     },
     "execution_count": 40,
     "metadata": {},
     "output_type": "execute_result"
    },
    {
     "data": {
      "image/png": "[encoded data removed]",
      "text/plain": [
       "<Figure size 640x480 with 1 Axes>"
      ]
     },
     "metadata": {},
     "output_type": "display_data"
    }
   ],
   "source": [
    "exc_params = conv_params[:80]\n",
    "inh_params = conv_params[80:]\n",
    "plt.plot(exc_params.mean(axis = 0))\n",
    "plt.plot(inh_params.mean(axis = 0))"
   ]
  },
  {
   "cell_type": "code",
   "execution_count": null,
   "metadata": {},
   "outputs": [],
   "source": []
  },
  {
   "cell_type": "code",
   "execution_count": null,
   "metadata": {},
   "outputs": [],
   "source": []
  },
  {
   "cell_type": "code",
   "execution_count": null,
   "metadata": {},
   "outputs": [],
   "source": []
  },
  {
   "cell_type": "code",
   "execution_count": null,
   "metadata": {},
   "outputs": [],
   "source": []
  },
  {
   "cell_type": "code",
   "execution_count": null,
   "metadata": {},
   "outputs": [],
   "source": []
  },
  {
   "cell_type": "code",
   "execution_count": null,
   "metadata": {},
   "outputs": [
    {
     "name": "stdout",
     "output_type": "stream",
     "text": [
      "24068021\n"
     ]
    },
    {
     "name": "stderr",
     "output_type": "stream",
     "text": [
      "[W NNPACK.cpp:64] Could not initialize NNPACK! Reason: Unsupported hardware.\n"
     ]
    },
    {
     "name": "stdout",
     "output_type": "stream",
     "text": [
      "[Epoch 0]:\n",
      "              train_loss = 7827.56298828125,\n",
      "              test_MSE = 5395.0341796875,\n",
      "              test_BCE = 577.7308959960938,\n",
      "              test_loss = 5972.76513671875,\n",
      "              test_acc = 0.99425\n",
      "              test_AUC = 0.6075149500934722\n",
      "[Epoch 0]:\n",
      "              train_loss = 6376.6494140625,\n",
      "              test_MSE = 4894.3251953125,\n",
      "              test_BCE = 197.52513122558594,\n",
      "              test_loss = 5091.85009765625,\n",
      "              test_acc = 0.99425\n",
      "              test_AUC = 0.5854205157918904\n"
     ]
    }
   ],
   "source": []
  },
  {
   "cell_type": "code",
   "execution_count": null,
   "metadata": {},
   "outputs": [
    {
     "data": {
      "text/plain": [
       "torch.Size([1, 4000])"
      ]
     },
     "execution_count": 5,
     "metadata": {},
     "output_type": "execute_result"
    }
   ],
   "source": [
    "torch.tensor(spike_times_train).shape"
   ]
  },
  {
   "cell_type": "code",
   "execution_count": null,
   "metadata": {},
   "outputs": [],
   "source": []
  }
 ],
 "metadata": {
  "kernelspec": {
   "display_name": "simulations",
   "language": "python",
   "name": "python3"
  },
  "language_info": {
   "codemirror_mode": {
    "name": "ipython",
    "version": 3
   },
   "file_extension": ".py",
   "mimetype": "text/x-python",
   "name": "python",
   "nbconvert_exporter": "python",
   "pygments_lexer": "ipython3",
   "version": "3.8.16"
  }
 },
 "nbformat": 4,
 "nbformat_minor": 2
}
